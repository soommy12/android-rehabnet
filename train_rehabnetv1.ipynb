{
  "nbformat": 4,
  "nbformat_minor": 0,
  "metadata": {
    "colab": {
      "name": "rehabnet",
      "provenance": [],
      "collapsed_sections": []
    },
    "kernelspec": {
      "name": "python3",
      "display_name": "Python 3"
    }
  },
  "cells": [
    {
      "cell_type": "code",
      "metadata": {
        "id": "aVcb_uB1sub4",
        "colab_type": "code",
        "colab": {
          "base_uri": "https://localhost:8080/",
          "height": 51
        },
        "outputId": "edfe4aa2-1a62-4535-95e5-d4738b1da6ef"
      },
      "source": [
        "import os\n",
        "import matplotlib.pyplot as plt\n",
        "import tensorflow as tf\n",
        "print(\"TensorFlow version: {}\".format(tf.__version__))\n",
        "print(\"Eager execution: {}\".format(tf.executing_eagerly()))"
      ],
      "execution_count": null,
      "outputs": [
        {
          "output_type": "stream",
          "text": [
            "TensorFlow version: 2.3.0\n",
            "Eager execution: True\n"
          ],
          "name": "stdout"
        }
      ]
    },
    {
      "cell_type": "code",
      "metadata": {
        "id": "stJYoav-_33v",
        "colab_type": "code",
        "colab": {
          "base_uri": "https://localhost:8080/",
          "height": 71
        },
        "outputId": "af65fd44-6c9b-4759-989a-57fa400b8dc7"
      },
      "source": [
        "\n",
        "column_names = ['leftUpperArmX','leftForearmX','leftHandX','rightUpperArmX','rightForearmX','rightHandX','leftUpeerLegX','leftLowerLegX','leftFootX','rightUpperLegX','rightLoweLegX','rightFootX','leftUpperArmY','leftForearmY','leftHandY','rightUpperArmY','rightForearmY','rightHandY','leftUpeerLegY','leftLowerLegY','leftFootY','rightUpperLegY','rightLoweLegY','rightFootY','type']\n",
        "# column_names = ['sepal_length', 'sepal_width', 'petal_length', 'petal_width', 'species']\n",
        "feature_names = column_names[:-1]\n",
        "label_name = column_names[-1]\n",
        "\n",
        "feature_names = column_names[:-1]\n",
        "label_name = column_names[-1]\n",
        "\n",
        "print(\"Features: {}\".format(feature_names))\n",
        "print(\"Label: {}\".format(label_name))\n",
        "\n",
        "\n",
        "class_names = ['deep squat', \n",
        "               'hurdle step', \n",
        "               'inline lunge',\n",
        "               'side lunge', \n",
        "               'sit to stand', \n",
        "               'standing active straight leg raise',\n",
        "               'standing shoulder abduction', \n",
        "               'standing shoulder extension',\n",
        "               'standing shoulder internal-external rotation',\n",
        "               'standing shoulder scaption']\n",
        "\n",
        "column_defaults = [1.00, 1.00, 1.00, 1.00, 1.00, 1.00, 1.00, 1.00, 1.00, 1.00, 1.00, 1.00, 1.00, 1.00, 1.00, 1.00, 1.00, 1.00, 1.00, 1.00, 1.00, 1.00, 1.00, 1.00, 1.00]\n",
        "\n",
        "\n",
        "\n"
      ],
      "execution_count": null,
      "outputs": [
        {
          "output_type": "stream",
          "text": [
            "Features: ['leftUpperArmX', 'leftForearmX', 'leftHandX', 'rightUpperArmX', 'rightForearmX', 'rightHandX', 'leftUpeerLegX', 'leftLowerLegX', 'leftFootX', 'rightUpperLegX', 'rightLoweLegX', 'rightFootX', 'leftUpperArmY', 'leftForearmY', 'leftHandY', 'rightUpperArmY', 'rightForearmY', 'rightHandY', 'leftUpeerLegY', 'leftLowerLegY', 'leftFootY', 'rightUpperLegY', 'rightLoweLegY', 'rightFootY']\n",
            "Label: type\n"
          ],
          "name": "stdout"
        }
      ]
    },
    {
      "cell_type": "code",
      "metadata": {
        "id": "bysD6H31v03u",
        "colab_type": "code",
        "colab": {
          "base_uri": "https://localhost:8080/",
          "height": 1000
        },
        "outputId": "0c659f37-711f-4ede-e0a1-64d948a7cdeb"
      },
      "source": [
        "batch_size = 32\n",
        "\n",
        "train_dataset = tf.data.experimental.make_csv_dataset(\n",
        "    \"rehab_train.csv\",\n",
        "    batch_size,\n",
        "    column_names=column_names,\n",
        "    column_defaults=column_defaults,\n",
        "    label_name=label_name,\n",
        "    num_epochs=1)\n",
        "\n",
        "features, labels = next(iter(train_dataset))\n",
        "print(features)"
      ],
      "execution_count": null,
      "outputs": [
        {
          "output_type": "stream",
          "text": [
            "OrderedDict([('leftUpperArmX', <tf.Tensor: shape=(32,), dtype=float32, numpy=\n",
            "array([19.707, 21.357, 19.865, 19.762, 21.609, 21.032, 22.238, 20.373,\n",
            "       20.28 , 21.974, 19.051, 21.053, 24.002, 21.741, 20.384, 21.334,\n",
            "       22.076, 20.716, 18.95 , 18.893, 21.779, 19.466, 20.845, 20.486,\n",
            "       22.394, 19.594, 20.462, 20.417, 21.513, 27.888, 19.717, 18.095],\n",
            "      dtype=float32)>), ('leftForearmX', <tf.Tensor: shape=(32,), dtype=float32, numpy=\n",
            "array([23.807, 25.141, 24.402, 24.619, 25.608, 25.135, 26.334, 24.737,\n",
            "       25.582, 25.889, 23.776, 25.058, 28.   , 25.662, 24.463, 25.649,\n",
            "       26.161, 25.914, 23.401, 24.674, 26.21 , 23.548, 25.637, 24.724,\n",
            "       26.292, 24.829, 24.45 , 25.097, 26.088, 26.239, 23.564, 21.655],\n",
            "      dtype=float32)>), ('leftHandX', <tf.Tensor: shape=(32,), dtype=float32, numpy=\n",
            "array([28.   , 28.   , 28.   , 28.   , 28.   , 28.   , 28.   , 28.   ,\n",
            "       28.   , 28.   , 26.566, 28.   , 27.298, 28.   , 28.   , 28.   ,\n",
            "       28.   , 28.   , 26.435, 28.   , 28.   , 28.   , 28.   , 28.   ,\n",
            "       28.   , 28.   , 25.595, 28.   , 28.   , 28.   , 28.   , 23.529],\n",
            "      dtype=float32)>), ('rightUpperArmX', <tf.Tensor: shape=(32,), dtype=float32, numpy=\n",
            "array([11.542 , 13.769 , 12.652 , 12.14  , 13.531 , 13.84  , 11.791 ,\n",
            "       13.025 , 11.322 , 13.342 , 11.808 , 13.324 , 11.069 , 11.355 ,\n",
            "       13.279 , 12.914 , 11.908 , 12.593 , 11.973 ,  9.4016, 13.076 ,\n",
            "       11.724 , 10.92  , 13.575 , 11.887 , 11.969 , 11.454 , 12.641 ,\n",
            "       12.929 , 12.083 , 12.054 , 10.925 ], dtype=float32)>), ('rightForearmX', <tf.Tensor: shape=(32,), dtype=float32, numpy=\n",
            "array([ 7.4523,  9.6103,  7.6717,  7.3048,  8.9242,  9.0517,  7.8106,\n",
            "        8.3403,  4.5217,  9.6063,  7.6803,  9.6481,  3.2062,  3.1523,\n",
            "        9.8165,  8.7147,  7.7702,  7.0008,  7.0958,  2.0436,  8.9508,\n",
            "        7.7268,  2.8096, 10.387 ,  7.6789,  6.5864,  7.2919,  7.8884,\n",
            "        8.5166,  4.0342,  7.9988,  7.3497], dtype=float32)>), ('rightHandX', <tf.Tensor: shape=(32,), dtype=float32, numpy=\n",
            "array([2.9196, 7.3195, 4.5465, 4.3103, 6.1801, 6.4169, 6.3854, 4.4622,\n",
            "       4.0443, 6.6223, 5.8225, 6.231 , 1.2755, 1.1307, 6.5059, 6.0008,\n",
            "       6.0964, 4.7411, 3.6773, 0.    , 6.259 , 3.2542, 0.    , 6.8723,\n",
            "       5.9996, 3.3325, 6.0184, 4.8298, 4.5328, 3.8572, 3.9468, 5.1855],\n",
            "      dtype=float32)>), ('leftUpeerLegX', <tf.Tensor: shape=(32,), dtype=float32, numpy=\n",
            "array([16.792, 19.139, 18.348, 17.653, 19.567, 19.144, 19.189, 18.069,\n",
            "       15.795, 19.179, 16.773, 18.566, 16.261, 17.058, 18.475, 18.815,\n",
            "       19.381, 19.052, 17.152, 14.887, 19.06 , 16.757, 16.732, 18.478,\n",
            "       19.173, 17.91 , 17.844, 18.886, 18.748, 17.148, 17.396, 16.015],\n",
            "      dtype=float32)>), ('leftLowerLegX', <tf.Tensor: shape=(32,), dtype=float32, numpy=\n",
            "array([16.936, 22.345, 17.467, 22.107, 21.163, 18.233, 20.936, 21.755,\n",
            "       22.371, 21.209, 22.392, 18.13 , 23.167, 25.975, 17.428, 21.719,\n",
            "       22.323, 19.821, 23.08 , 20.783, 21.535, 16.749, 23.271, 17.609,\n",
            "       21.657, 18.664, 24.082, 20.799, 18.375, 23.525, 16.75 , 21.194],\n",
            "      dtype=float32)>), ('leftFootX', <tf.Tensor: shape=(32,), dtype=float32, numpy=\n",
            "array([16.378, 23.66 , 19.381, 26.635, 22.777, 15.045, 23.116, 23.734,\n",
            "       20.454, 23.307, 28.   , 18.334, 26.377, 20.798, 16.403, 25.17 ,\n",
            "       19.588, 20.648, 28.   , 22.334, 24.7  , 15.972, 24.022, 16.806,\n",
            "       24.278, 17.615, 28.   , 20.16 , 18.125, 20.962, 15.477, 28.   ],\n",
            "      dtype=float32)>), ('rightUpperLegX', <tf.Tensor: shape=(32,), dtype=float32, numpy=\n",
            "array([13.218, 15.551, 14.293, 14.384, 15.753, 15.669, 14.634, 14.29 ,\n",
            "       13.042, 15.424, 13.431, 14.945, 13.316, 15.276, 15.25 , 14.968,\n",
            "       14.725, 15.158, 13.673, 12.046, 15.118, 13.292, 14.524, 15.289,\n",
            "       14.55 , 14.796, 13.456, 15.101, 14.607, 15.641, 13.782, 12.703],\n",
            "      dtype=float32)>), ('rightLoweLegX', <tf.Tensor: shape=(32,), dtype=float32, numpy=\n",
            "array([12.344 , 10.329 , 15.364 , 10.214 , 14.049 , 14.976 , 12.75  ,\n",
            "       10.87  , 11.928 , 13.354 ,  8.2465,  9.7156,  8.1187, 11.437 ,\n",
            "       15.858 , 12.634 , 11.504 , 17.325 ,  9.0625, 10.475 , 12.899 ,\n",
            "       12.257 , 10.274 , 14.344 , 12.36  , 12.664 ,  5.8451, 10.153 ,\n",
            "       13.826 , 10.879 , 12.586 ,  8.7694], dtype=float32)>), ('rightFootX', <tf.Tensor: shape=(32,), dtype=float32, numpy=\n",
            "array([11.871 ,  9.6292, 13.381 ,  6.3595, 12.522 , 17.818 , 10.639 ,\n",
            "        8.8302,  6.9655, 10.856 ,  3.1007, 15.339 ,  0.    ,  3.3476,\n",
            "       14.564 ,  9.9499,  7.8246, 12.863 ,  5.9541,  5.7069, 10.479 ,\n",
            "       11.472 ,  1.4875, 14.714 , 10.39  , 12.937 ,  4.6845,  9.2905,\n",
            "       12.555 ,  1.3835, 14.158 ,  4.9372], dtype=float32)>), ('leftUpperArmY', <tf.Tensor: shape=(32,), dtype=float32, numpy=\n",
            "array([27.899, 21.709, 20.649, 23.183, 23.116, 21.431, 22.98 , 23.282,\n",
            "       23.928, 22.969, 22.045, 26.732, 25.617, 25.02 , 27.693, 22.982,\n",
            "       20.803, 20.993, 23.114, 24.604, 22.877, 27.949, 25.867, 27.331,\n",
            "       23.124, 21.149, 21.339, 22.338, 26.669, 26.461, 27.921, 22.641],\n",
            "      dtype=float32)>), ('leftForearmY', <tf.Tensor: shape=(32,), dtype=float32, numpy=\n",
            "array([25.269, 25.061, 23.936, 25.433, 25.63 , 24.933, 25.293, 25.519,\n",
            "       23.421, 25.439, 24.137, 25.513, 23.568, 22.103, 26.03 , 25.169,\n",
            "       24.364, 24.001, 25.484, 24.331, 25.286, 25.394, 23.398, 26.048,\n",
            "       25.381, 24.308, 24.783, 25.121, 24.817, 22.889, 25.345, 25.175],\n",
            "      dtype=float32)>), ('leftHandY', <tf.Tensor: shape=(32,), dtype=float32, numpy=\n",
            "array([27.003, 28.   , 28.   , 28.   , 28.   , 28.   , 27.937, 28.   ,\n",
            "       26.032, 27.989, 27.374, 28.   , 27.339, 25.284, 27.562, 28.   ,\n",
            "       28.   , 28.   , 28.   , 26.758, 28.   , 27.726, 26.196, 28.   ,\n",
            "       28.   , 28.   , 28.   , 28.   , 28.   , 25.868, 27.498, 28.   ],\n",
            "      dtype=float32)>), ('rightUpperArmY', <tf.Tensor: shape=(32,), dtype=float32, numpy=\n",
            "array([28.   , 21.569, 20.925, 23.123, 22.996, 21.354, 23.061, 23.031,\n",
            "       23.739, 22.977, 22.143, 27.14 , 25.372, 24.461, 28.   , 22.967,\n",
            "       20.9  , 20.953, 22.974, 24.345, 22.892, 28.   , 25.184, 27.688,\n",
            "       23.003, 20.867, 21.368, 22.415, 26.696, 24.908, 28.   , 22.583],\n",
            "      dtype=float32)>), ('rightForearmY', <tf.Tensor: shape=(32,), dtype=float32, numpy=\n",
            "array([25.229, 24.463, 23.917, 25.238, 25.571, 24.137, 25.428, 25.2  ,\n",
            "       24.719, 25.2  , 24.922, 24.544, 24.882, 23.823, 25.953, 25.166,\n",
            "       23.893, 23.717, 24.879, 25.162, 25.052, 25.266, 24.909, 25.307,\n",
            "       25.477, 22.711, 24.242, 24.663, 24.477, 24.491, 25.357, 24.881],\n",
            "      dtype=float32)>), ('rightHandY', <tf.Tensor: shape=(32,), dtype=float32, numpy=\n",
            "array([27.134, 27.461, 27.698, 27.925, 27.914, 27.129, 28.   , 27.251,\n",
            "       28.   , 28.   , 28.   , 26.101, 28.   , 28.   , 27.643, 27.759,\n",
            "       27.595, 27.283, 27.191, 28.   , 27.826, 27.209, 28.   , 26.893,\n",
            "       27.934, 26.447, 27.413, 27.238, 26.492, 28.   , 27.116, 27.75 ],\n",
            "      dtype=float32)>), ('leftUpeerLegY', <tf.Tensor: shape=(32,), dtype=float32, numpy=\n",
            "array([20.272, 14.736, 12.683, 16.798, 16.944, 14.234, 16.665, 16.886,\n",
            "       16.246, 16.736, 15.84 , 19.467, 18.657, 16.765, 20.776, 16.773,\n",
            "       13.676, 13.717, 16.822, 17.374, 16.686, 20.299, 18.189, 20.442,\n",
            "       16.724, 13.355, 14.431, 15.549, 18.991, 17.831, 20.388, 16.526],\n",
            "      dtype=float32)>), ('leftLowerLegY', <tf.Tensor: shape=(32,), dtype=float32, numpy=\n",
            "array([14.661, 19.162, 18.732, 13.818, 12.017, 19.758, 11.805, 12.824,\n",
            "       13.484, 12.438, 16.184, 13.869, 14.631, 14.416, 14.677, 12.607,\n",
            "       18.103, 18.137, 14.711, 13.417, 12.437, 14.79 , 14.044, 14.458,\n",
            "       11.989, 18.446, 15.175, 20.55 , 13.727, 13.921, 14.981, 13.362],\n",
            "      dtype=float32)>), ('leftFootY', <tf.Tensor: shape=(32,), dtype=float32, numpy=\n",
            "array([ 8.785 , 14.046 , 12.278 ,  8.9635,  7.4308, 15.207 ,  7.5308,\n",
            "        8.1372,  9.8513,  7.5557, 11.914 ,  8.3891,  9.7938, 13.821 ,\n",
            "        9.0382,  7.8944, 14.407 , 13.148 , 10.564 ,  8.4908,  7.7132,\n",
            "        8.986 ,  9.4047,  8.9191,  7.6847, 12.915 , 10.417 , 15.801 ,\n",
            "        8.6244, 10.317 ,  8.8792, 10.176 ], dtype=float32)>), ('rightUpperLegY', <tf.Tensor: shape=(32,), dtype=float32, numpy=\n",
            "array([20.394, 14.823, 12.793, 16.797, 16.946, 14.301, 16.71 , 16.893,\n",
            "       16.38 , 16.782, 15.896, 19.462, 19.031, 16.946, 20.942, 16.8  ,\n",
            "       13.819, 13.761, 16.812, 17.442, 16.722, 20.414, 18.401, 20.636,\n",
            "       16.776, 13.371, 14.54 , 15.551, 19.107, 18.058, 20.635, 16.535],\n",
            "      dtype=float32)>), ('rightLoweLegY', <tf.Tensor: shape=(32,), dtype=float32, numpy=\n",
            "array([14.9  , 18.506, 18.484, 13.581, 11.855, 19.295, 11.787, 12.851,\n",
            "       11.938, 12.505, 15.716, 19.663, 14.452, 11.663, 20.681, 12.525,\n",
            "       18.219, 18.39 , 13.511, 13.288, 12.477, 14.823, 13.686, 20.268,\n",
            "       11.883, 17.976, 16.258, 19.191, 13.607, 13.241, 18.576, 12.824],\n",
            "      dtype=float32)>), ('rightFootY', <tf.Tensor: shape=(32,), dtype=float32, numpy=\n",
            "array([ 9.1286, 13.035 , 11.819 ,  8.6856,  7.498 , 14.19  ,  7.4217,\n",
            "        8.0635,  9.7707,  7.6873, 11.389 , 21.768 , 10.056 ,  6.3603,\n",
            "       24.809 ,  7.7395, 14.107 , 13.259 ,  8.91  , 10.118 ,  7.6942,\n",
            "        8.9872, 10.058 , 23.46  ,  7.4699, 12.048 , 11.225 , 13.537 ,\n",
            "        8.4296, 10.285 , 21.91  ,  8.446 ], dtype=float32)>)])\n"
          ],
          "name": "stdout"
        }
      ]
    },
    {
      "cell_type": "code",
      "metadata": {
        "id": "SJ9s8gX-dS4X",
        "colab_type": "code",
        "colab": {
          "base_uri": "https://localhost:8080/",
          "height": 279
        },
        "outputId": "32545b06-e58c-496b-8637-fe54021c509a"
      },
      "source": [
        "plt.scatter(features['leftUpperArmX'],\n",
        "            features['leftUpperArmY'],\n",
        "            c=labels,\n",
        "            cmap='viridis')\n",
        "\n",
        "plt.xlabel(\"leftUpperArmX\")\n",
        "plt.ylabel(\"leftUpperArmY\")\n",
        "plt.show()"
      ],
      "execution_count": null,
      "outputs": [
        {
          "output_type": "display_data",
          "data": {
            "image/png": "[encoded data removed]",
            "text/plain": [
              "<Figure size 432x288 with 1 Axes>"
            ]
          },
          "metadata": {
            "tags": [],
            "needs_background": "light"
          }
        }
      ]
    },
    {
      "cell_type": "code",
      "metadata": {
        "id": "VEfKzsE5dq5b",
        "colab_type": "code",
        "colab": {
          "base_uri": "https://localhost:8080/",
          "height": 289
        },
        "outputId": "1b12b788-19a0-4b52-8f10-348d27e979e3"
      },
      "source": [
        "def pack_features_vector(features, labels):\n",
        "  \"\"\"Pack the features into a single array.\"\"\"\n",
        "  features = tf.stack(list(features.values()), axis=1)\n",
        "  return features, labels\n",
        "\n",
        "train_dataset = train_dataset.map(pack_features_vector)\n",
        "\n",
        "features, labels = next(iter(train_dataset))\n",
        "print(features[:5])"
      ],
      "execution_count": null,
      "outputs": [
        {
          "output_type": "stream",
          "text": [
            "tf.Tensor(\n",
            "[[21.453  25.525  28.     13.442   9.4095  6.6795 19.534  20.849  21.952\n",
            "  15.821  14.169  12.466  23.337  25.664  28.     23.066  25.263  27.703\n",
            "  17.005  12.058   7.4824 16.987  11.898   7.5137]\n",
            " [20.643  24.971  28.     12.851   7.0705  3.9935 18.778  17.948  19.381\n",
            "  14.675  15.706  13.901  21.247  23.959  28.     21.106  23.068  26.143\n",
            "  13.192  19.013  12.818  13.311  18.965  12.131 ]\n",
            " [16.479  20.295  21.827   9.8602  6.2184  4.3164 14.891  21.239  28.\n",
            "  11.926   5.7387  0.     22.493  24.955  28.     22.398  24.775  27.792\n",
            "  16.222  15.837  12.951  16.213  14.967  11.387 ]\n",
            " [20.285  24.53   28.     13.203   9.6216  6.3111 18.146  17.403  16.647\n",
            "  14.902  15.484  10.5    27.866  26.318  27.875  28.     25.875  27.864\n",
            "  20.858  14.695   9.0924 21.022  20.162  17.928 ]\n",
            " [19.654  23.578  28.     11.985   8.0018  4.0138 17.339  16.616  15.681\n",
            "  13.781  12.262   8.2626 27.829  25.263  27.482  28.     25.313  27.264\n",
            "  20.425  14.98    8.8237 20.65   19.167  16.61  ]], shape=(5, 24), dtype=float32)\n"
          ],
          "name": "stdout"
        }
      ]
    },
    {
      "cell_type": "markdown",
      "metadata": {
        "id": "j3Q4UmhLhZ5u",
        "colab_type": "text"
      },
      "source": [
        "Stworzenie modelu...."
      ]
    },
    {
      "cell_type": "code",
      "metadata": {
        "id": "kTcEKMHlhc1T",
        "colab_type": "code",
        "colab": {}
      },
      "source": [
        "model = tf.keras.Sequential([\n",
        "  tf.keras.layers.Dense(20, activation=tf.nn.relu, input_shape=(24,)),\n",
        "  tf.keras.layers.Dense(20, activation=tf.nn.relu),\n",
        "  tf.keras.layers.Dense(11)\n",
        "])"
      ],
      "execution_count": null,
      "outputs": []
    },
    {
      "cell_type": "code",
      "metadata": {
        "id": "ZHLHRpcEhwuo",
        "colab_type": "code",
        "colab": {
          "base_uri": "https://localhost:8080/",
          "height": 289
        },
        "outputId": "cfb14796-55c4-4493-e781-f7d8e327c8b2"
      },
      "source": [
        "predictions = model(features)\n",
        "predictions[:5]"
      ],
      "execution_count": null,
      "outputs": [
        {
          "output_type": "execute_result",
          "data": {
            "text/plain": [
              "<tf.Tensor: shape=(5, 11), dtype=float32, numpy=\n",
              "array([[-5.7656784,  8.838596 , 16.294134 , -1.0747478,  6.7436385,\n",
              "        -3.791483 , 13.233332 ,  8.0900955, -4.642752 , -4.162612 ,\n",
              "        -5.081853 ],\n",
              "       [-6.3852377,  8.947769 , 17.78092  ,  1.2800019,  7.7724295,\n",
              "        -3.7274005, 11.637717 ,  9.501751 , -4.4982195, -4.2677455,\n",
              "        -6.8609257],\n",
              "       [-6.685441 ,  8.230055 , 19.618008 ,  1.4377451,  7.51805  ,\n",
              "        -2.414664 , 12.717119 ,  9.181938 , -3.0007708, -3.719673 ,\n",
              "        -7.8110943],\n",
              "       [-6.7325845,  8.296691 , 21.947746 , -2.334161 ,  7.3333263,\n",
              "        -2.8662746, 15.107786 ,  7.950711 , -2.7417085, -2.0448017,\n",
              "        -8.200854 ],\n",
              "       [-7.0876584,  7.6084933, 20.949928 , -2.296249 ,  7.390888 ,\n",
              "        -2.9345925, 14.902322 ,  7.137364 , -2.3494902, -2.2014675,\n",
              "        -7.1531925]], dtype=float32)>"
            ]
          },
          "metadata": {
            "tags": []
          },
          "execution_count": 7
        }
      ]
    },
    {
      "cell_type": "markdown",
      "metadata": {
        "id": "1EbJsN8SiAQR",
        "colab_type": "text"
      },
      "source": [
        "Aby uzyskać probability, należy użyć f-cji softmax..."
      ]
    },
    {
      "cell_type": "code",
      "metadata": {
        "id": "wFtYtlv7iIBO",
        "colab_type": "code",
        "colab": {
          "base_uri": "https://localhost:8080/",
          "height": 289
        },
        "outputId": "8bb05aa1-6c58-4ec3-c4f2-dd44c330ad3b"
      },
      "source": [
        "tf.nn.softmax(predictions[:5])"
      ],
      "execution_count": null,
      "outputs": [
        {
          "output_type": "execute_result",
          "data": {
            "text/plain": [
              "<tf.Tensor: shape=(5, 11), dtype=float32, numpy=\n",
              "array([[2.5077138e-10, 5.5186631e-04, 9.5440519e-01, 2.7322695e-08,\n",
              "        6.7921217e-05, 1.8057605e-09, 4.4713963e-02, 2.6107428e-04,\n",
              "        7.7083040e-10, 1.2458945e-09, 4.9688875e-10],\n",
              "       [3.1889446e-11, 1.4544098e-04, 9.9741399e-01, 6.8017094e-08,\n",
              "        4.4899680e-05, 4.5491561e-10, 2.1424780e-03, 2.5309177e-04,\n",
              "        2.1045911e-10, 2.6500954e-10, 1.9817911e-11],\n",
              "       [3.7679118e-12, 1.1319255e-05, 9.9894804e-01, 1.2704419e-08,\n",
              "        5.5539017e-06, 2.6969660e-10, 1.0058312e-03, 2.9323481e-05,\n",
              "        1.5008329e-10, 7.3133596e-11, 1.2224618e-12],\n",
              "       [3.4980439e-13, 1.1774878e-06, 9.9892849e-01, 2.8446953e-11,\n",
              "        4.4933734e-07, 1.6708690e-11, 1.0689994e-03, 8.3310346e-07,\n",
              "        1.8925195e-11, 3.7992970e-11, 8.0568107e-14],\n",
              "       [6.6436093e-13, 1.6027349e-06, 9.9763811e-01, 8.0036179e-11,\n",
              "        1.2893082e-06, 4.2272422e-11, 2.3579299e-03, 1.0005812e-06,\n",
              "        7.5886360e-11, 8.7993300e-11, 6.2221821e-13]], dtype=float32)>"
            ]
          },
          "metadata": {
            "tags": []
          },
          "execution_count": 8
        }
      ]
    },
    {
      "cell_type": "code",
      "metadata": {
        "id": "iEpeQ_jXiNfS",
        "colab_type": "code",
        "colab": {
          "base_uri": "https://localhost:8080/",
          "height": 68
        },
        "outputId": "fb09c807-8d66-405d-bdda-1a5f4a2ba078"
      },
      "source": [
        "print(\"Prediction: {}\".format(tf.argmax(predictions, axis=1)))\n",
        "print(\"    Labels: {}\".format(labels))"
      ],
      "execution_count": null,
      "outputs": [
        {
          "output_type": "stream",
          "text": [
            "Prediction: [2 2 2 2 2 2 2 2 2 2 2 2 2 2 2 2 2 2 2 2 2 2 2 2 2 2 2 2 2 2 2 2]\n",
            "    Labels: [1. 1. 1. 1. 1. 1. 1. 1. 1. 1. 1. 1. 1. 2. 1. 1. 1. 2. 1. 1. 2. 1. 1. 1.\n",
            " 2. 1. 1. 1. 2. 2. 1. 1.]\n"
          ],
          "name": "stdout"
        }
      ]
    },
    {
      "cell_type": "markdown",
      "metadata": {
        "id": "6ghyF6ssib2f",
        "colab_type": "text"
      },
      "source": [
        "**TRENOWANIE**"
      ]
    },
    {
      "cell_type": "code",
      "metadata": {
        "id": "yWwKoJg7igpV",
        "colab_type": "code",
        "colab": {}
      },
      "source": [
        "loss_object = tf.keras.losses.SparseCategoricalCrossentropy(from_logits=True)"
      ],
      "execution_count": null,
      "outputs": []
    },
    {
      "cell_type": "code",
      "metadata": {
        "id": "4P3qxZb-iz4S",
        "colab_type": "code",
        "colab": {
          "base_uri": "https://localhost:8080/",
          "height": 34
        },
        "outputId": "aa43c1b1-63e3-41cb-8664-b05f7a57eb79"
      },
      "source": [
        "def loss(model, x, y, training):\n",
        "  # training=training is needed only if there are layers with different\n",
        "  # behavior during training versus inference (e.g. Dropout).\n",
        "  y_ = model(x, training=training)\n",
        "\n",
        "  return loss_object(y_true=y, y_pred=y_)\n",
        "\n",
        "\n",
        "l = loss(model, features, labels, training=False)\n",
        "print(\"Loss test: {}\".format(l))"
      ],
      "execution_count": null,
      "outputs": [
        {
          "output_type": "stream",
          "text": [
            "Loss test: 8.196399688720703\n"
          ],
          "name": "stdout"
        }
      ]
    },
    {
      "cell_type": "code",
      "metadata": {
        "id": "FJ5aECIai6TK",
        "colab_type": "code",
        "colab": {}
      },
      "source": [
        "def grad(model, inputs, targets):\n",
        "  with tf.GradientTape() as tape:\n",
        "    loss_value = loss(model, inputs, targets, training=True)\n",
        "  return loss_value, tape.gradient(loss_value, model.trainable_variables)"
      ],
      "execution_count": null,
      "outputs": []
    },
    {
      "cell_type": "code",
      "metadata": {
        "id": "Ks4vALOBjBGy",
        "colab_type": "code",
        "colab": {}
      },
      "source": [
        "optimizer = tf.keras.optimizers.SGD(learning_rate=0.01)"
      ],
      "execution_count": null,
      "outputs": []
    },
    {
      "cell_type": "code",
      "metadata": {
        "id": "lMozbHmejEFs",
        "colab_type": "code",
        "colab": {
          "base_uri": "https://localhost:8080/",
          "height": 51
        },
        "outputId": "42dbcb77-cdea-4a90-8415-c025b84add3b"
      },
      "source": [
        "loss_value, grads = grad(model, features, labels)\n",
        "\n",
        "print(\"Step: {}, Initial Loss: {}\".format(optimizer.iterations.numpy(),\n",
        "                                          loss_value.numpy()))\n",
        "\n",
        "optimizer.apply_gradients(zip(grads, model.trainable_variables))\n",
        "\n",
        "print(\"Step: {},         Loss: {}\".format(optimizer.iterations.numpy(),\n",
        "                                          loss(model, features, labels, training=True).numpy()))"
      ],
      "execution_count": null,
      "outputs": [
        {
          "output_type": "stream",
          "text": [
            "Step: 0, Initial Loss: 8.196399688720703\n",
            "Step: 1,         Loss: 11.213604927062988\n"
          ],
          "name": "stdout"
        }
      ]
    },
    {
      "cell_type": "code",
      "metadata": {
        "colab_type": "code",
        "id": "AIgulGRUhpto",
        "colab": {
          "base_uri": "https://localhost:8080/",
          "height": 102
        },
        "outputId": "9a5ee762-f908-448c-d61f-b13ada53cee8"
      },
      "source": [
        "## Note: Rerunning this cell uses the same model variables\n",
        "\n",
        "# Keep results for plotting\n",
        "train_loss_results = []\n",
        "train_accuracy_results = []\n",
        "\n",
        "num_epochs = 201\n",
        "\n",
        "for epoch in range(num_epochs):\n",
        "  epoch_loss_avg = tf.keras.metrics.Mean()\n",
        "  epoch_accuracy = tf.keras.metrics.SparseCategoricalAccuracy()\n",
        "\n",
        "  # Training loop - using batches of 32\n",
        "  for x, y in train_dataset:\n",
        "    # Optimize the model\n",
        "    loss_value, grads = grad(model, x, y)\n",
        "    optimizer.apply_gradients(zip(grads, model.trainable_variables))\n",
        "\n",
        "    # Track progress\n",
        "    epoch_loss_avg.update_state(loss_value)  # Add current batch loss\n",
        "    # Compare predicted label to actual label\n",
        "    # training=True is needed only if there are layers with different\n",
        "    # behavior during training versus inference (e.g. Dropout).\n",
        "    epoch_accuracy.update_state(y, model(x, training=True))\n",
        "\n",
        "  # End epoch\n",
        "  train_loss_results.append(epoch_loss_avg.result())\n",
        "  train_accuracy_results.append(epoch_accuracy.result())\n",
        "\n",
        "  if epoch % 50 == 0:\n",
        "    print(\"Epoch {:03d}: Loss: {:.3f}, Accuracy: {:.3%}\".format(epoch,\n",
        "                                                                epoch_loss_avg.result(),\n",
        "                                                                epoch_accuracy.result()))"
      ],
      "execution_count": null,
      "outputs": [
        {
          "output_type": "stream",
          "text": [
            "Epoch 000: Loss: 0.668, Accuracy: 77.515%\n",
            "Epoch 050: Loss: 0.161, Accuracy: 96.436%\n",
            "Epoch 100: Loss: 0.124, Accuracy: 97.497%\n",
            "Epoch 150: Loss: 0.106, Accuracy: 97.918%\n",
            "Epoch 200: Loss: 0.098, Accuracy: 98.148%\n"
          ],
          "name": "stdout"
        }
      ]
    },
    {
      "cell_type": "code",
      "metadata": {
        "id": "agjvNd2iUGFn",
        "colab_type": "code",
        "colab": {
          "base_uri": "https://localhost:8080/",
          "height": 558
        },
        "outputId": "baf5144a-61b9-4274-b68e-726b47663e93"
      },
      "source": [
        "fig, axes = plt.subplots(2, sharex=False, figsize=(12, 8))\n",
        "fig.suptitle('Training Metrics')\n",
        "\n",
        "axes[0].set_ylabel(\"Loss\", fontsize=14)\n",
        "axes[0].plot(train_loss_results)\n",
        "axes[0].set_xlabel(\"Epoch\", fontsize=14)\n",
        "\n",
        "axes[1].set_ylabel(\"Accuracy\", fontsize=14)\n",
        "axes[1].set_xlabel(\"Epoch\", fontsize=14)\n",
        "axes[1].plot(train_accuracy_results)\n",
        "plt.show()"
      ],
      "execution_count": null,
      "outputs": [
        {
          "output_type": "display_data",
          "data": {
            "image/png": "[encoded data removed]",
            "text/plain": [
              "<Figure size 864x576 with 2 Axes>"
            ]
          },
          "metadata": {
            "tags": [],
            "needs_background": "light"
          }
        }
      ]
    },
    {
      "cell_type": "code",
      "metadata": {
        "id": "G1Sk_AlJtcek",
        "colab_type": "code",
        "colab": {}
      },
      "source": [
        "model.save(\"saved_model\")"
      ],
      "execution_count": null,
      "outputs": []
    },
    {
      "cell_type": "code",
      "metadata": {
        "id": "SkxbekPOwWuw",
        "colab_type": "code",
        "colab": {}
      },
      "source": [
        "import tensorflow as tf\n",
        "\n",
        "converter = tf.lite.TFLiteConverter.from_saved_model('/content/saved_model')\n",
        "tflite_model = converter.convert()\n",
        "open(\"rehabnet_model.tflite\", \"wb\").write(tflite_model)"
      ],
      "execution_count": null,
      "outputs": []
    },
    {
      "cell_type": "code",
      "metadata": {
        "id": "_dClGx7Wo6Hm",
        "colab_type": "code",
        "colab": {}
      },
      "source": [
        "predict_dataset = tf.convert_to_tensor([\n",
        "[20.401487, 21.026022, 24.356876, 23.836432, 26.646841, 0.7286245, 23.211895, 0.936803, 26.959108, 27.271376, 27.063196, 27.063196, 0.10408922, 0.0, 17.799257, 27.583643, 27.791822, 18.215614, 28.0, 27.271376, 26.959108, 26.855019, 27.791822, 27.791822]\n",
        " ])\n",
        "pred = model.predict(predict_dataset)\n",
        "predictions = model(predict_dataset, training=False)\n",
        "print(predictions)\n",
        "\n",
        "for i, logits in enumerate(predictions):\n",
        "  print(logits)\n",
        "  class_idx = tf.argmax(logits).numpy()\n",
        "  print(\"class idx\")\n",
        "  print(class_idx)\n",
        "  p = tf.nn.softmax(logits)[class_idx]\n",
        "  name = class_names[class_idx]\n",
        "  print(\"Example {} prediction: {} ({:4.1f}%)\".format(i, name, 100*p))\n"
      ],
      "execution_count": null,
      "outputs": []
    }
  ]
}